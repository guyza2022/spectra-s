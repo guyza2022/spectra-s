{
 "cells": [
  {
   "cell_type": "code",
   "execution_count": 52,
   "metadata": {},
   "outputs": [],
   "source": [
    "import pandas as pd"
   ]
  },
  {
   "cell_type": "markdown",
   "metadata": {},
   "source": [
    "## Formatting Train Set"
   ]
  },
  {
   "cell_type": "code",
   "execution_count": 53,
   "metadata": {},
   "outputs": [],
   "source": [
    "def format_sparkbeyond_dataset(dir:str):\n",
    "    df = pd.read_csv(dir, sep='\\t', low_memory=False)\n",
    "    df_t = df.T\n",
    "    df_t = df_t.reset_index()\n",
    "    df_t.columns = df_t.iloc[0]\n",
    "    df_t2 = df_t[2:]\n",
    "    filtered_df = df_t2.filter(regex='Feature|Target',axis=1)\n",
    "    filtered_df = filtered_df.reset_index(drop=True)\n",
    "    filtered_df.to_csv('feature_selected_'+dir.split('.')[0]+'.csv',index=False)"
   ]
  },
  {
   "cell_type": "code",
   "execution_count": 54,
   "metadata": {},
   "outputs": [],
   "source": [
    "list_dir = ['train_numeric.tsv','test_numeric.tsv']\n",
    "for dir in list_dir:\n",
    "    format_sparkbeyond_dataset(dir)"
   ]
  },
  {
   "cell_type": "code",
   "execution_count": null,
   "metadata": {},
   "outputs": [],
   "source": []
  }
 ],
 "metadata": {
  "kernelspec": {
   "display_name": "senior",
   "language": "python",
   "name": "python3"
  },
  "language_info": {
   "codemirror_mode": {
    "name": "ipython",
    "version": 3
   },
   "file_extension": ".py",
   "mimetype": "text/x-python",
   "name": "python",
   "nbconvert_exporter": "python",
   "pygments_lexer": "ipython3",
   "version": "3.11.0"
  }
 },
 "nbformat": 4,
 "nbformat_minor": 2
}
